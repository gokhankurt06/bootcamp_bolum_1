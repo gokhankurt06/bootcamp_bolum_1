{
 "cells": [
  {
   "cell_type": "markdown",
   "metadata": {},
   "source": [
    "### (1) İçerisinde 7 günün bulunduğu bir sözlük oluşturun. Kullanıcıya günleri listeleyerek 2 farklı gün seçmesini isteyin(örneğin pazartesi ve salı için \"12\" gibi). Kullanıcının seçtiği günleri silerek kalan 5 günü ekrana yazırın"
   ]
  },
  {
   "cell_type": "code",
   "execution_count": null,
   "metadata": {},
   "outputs": [
    {
     "name": "stdout",
     "output_type": "stream",
     "text": [
      "{'1': 'PAZARTESİ', '2': 'SALI', '3': 'ÇARŞAMBA', '4': 'PERŞEMBE', '5': 'CUMA', '6': 'CUMARTESİ', '7': 'PAZAR'} \n",
      "\n",
      "Yukarıdaki listeden iki farklı rakam seçiniz:\n"
     ]
    }
   ],
   "source": [
    "Hafta={ '1':'PAZARTESİ',\n",
    "        '2':'SALI',\n",
    "        '3':'ÇARŞAMBA',\n",
    "        '4':'PERŞEMBE',\n",
    "        '5':'CUMA',\n",
    "        '6':'CUMARTESİ',\n",
    "        '7':'PAZAR'}\n",
    "\n",
    "print(Hafta,\"\\n\")\n",
    "\n",
    "print(\"Yukarıdaki listeden iki farklı rakam seçiniz:\")\n",
    "\n",
    "ilk     = input(\"Lütfen 1.rakamı giriniz:\")\n",
    "ikinci  = input(\"Lütfen 2.rakamı giriniz:\")\n",
    "\n",
    "print(\"\\n\",\"Girmiş olduğunuz sayılara göre\",Hafta[ilk],\" ve \",Hafta[ikinci],\"günleri silinmiştir.\",\"\\n\")\n",
    "\n",
    "del Hafta[ilk]\n",
    "del Hafta[ikinci]\n",
    "\n",
    "print(Hafta)"
   ]
  },
  {
   "cell_type": "code",
   "execution_count": null,
   "metadata": {},
   "outputs": [],
   "source": []
  },
  {
   "cell_type": "markdown",
   "metadata": {},
   "source": [
    "### (2) Ayların kaç gün çektiğini karıştırabiliyoruz. Bunun için bir liste oluşturun ancak listenizde ay isimleri ve gün sayıları beraber bulunsun (ipucu: listenizin içinde başka bir veri yapısı yer alacak!)."
   ]
  },
  {
   "cell_type": "code",
   "execution_count": 2,
   "metadata": {},
   "outputs": [
    {
     "name": "stdout",
     "output_type": "stream",
     "text": [
      "[('Ocak', 31), ('Şubat', 28), ('Mart', 31), ('Nisan', 30), ('Mayıs', 31), ('Haziran', 30), ('Temmuz', 31), ('Ağustos', 31), ('Eylül', 30), ('Ekim', 31), ('Kasım', 30), ('Aralık', 31)]\n",
      "\n",
      " <class 'list'>\n"
     ]
    }
   ],
   "source": [
    "Aylar=[(\"Ocak\",31),(\"Şubat\",28),(\"Mart\",31),(\"Nisan\",30),(\"Mayıs\",31),(\"Haziran\",30),(\"Temmuz\",31),(\"Ağustos\",31),(\"Eylül\",30),(\"Ekim\",31),(\"Kasım\",30),(\"Aralık\",31)]\n",
    "\n",
    "print(Aylar)\n",
    "\n",
    "print(\"\\n\",type(Aylar))\n",
    "\n"
   ]
  },
  {
   "cell_type": "code",
   "execution_count": null,
   "metadata": {},
   "outputs": [],
   "source": []
  },
  {
   "cell_type": "markdown",
   "metadata": {},
   "source": [
    "### (3)Bilgileri bir önceki listeden alan başka bir ay listesi oluşturun. Bu kez ayları günlerle birlikte listenin içinde iki ayrı listede tutun\n"
   ]
  },
  {
   "cell_type": "code",
   "execution_count": 4,
   "metadata": {},
   "outputs": [
    {
     "name": "stdout",
     "output_type": "stream",
     "text": [
      "['Ocak', 'Şubat', 'Mart', 'Nisan', 'Mayıs', 'Haziran', 'Temmuz', 'Ağustos', 'Eylül', 'Ekim', 'Kasım', 'Aralık']\n",
      "<class 'list'> \n",
      "\n",
      "[31, 28, 31, 30, 31, 30, 31, 31, 30, 31, 30, 31]\n",
      "<class 'list'>\n",
      "\n",
      " [['Ocak', 'Şubat', 'Mart', 'Nisan', 'Mayıs', 'Haziran', 'Temmuz', 'Ağustos', 'Eylül', 'Ekim', 'Kasım', 'Aralık'], [31, 28, 31, 30, 31, 30, 31, 31, 30, 31, 30, 31]]\n",
      "<class 'list'>\n"
     ]
    }
   ],
   "source": [
    "yliste=dict(Aylar)\n",
    "\n",
    "\n",
    "A=list(yliste.keys())\n",
    "print(A)\n",
    "print(type(A),\"\\n\")\n",
    "\n",
    "Gün_sayi=list(yliste.values())\n",
    "print(Gün_sayi)\n",
    "print(type(Gün_sayi))\n",
    "\n",
    "s=[A,Gün_sayi]\n",
    "print(\"\\n\",s)\n",
    "print(type(s))\n"
   ]
  },
  {
   "cell_type": "code",
   "execution_count": null,
   "metadata": {},
   "outputs": [],
   "source": []
  },
  {
   "cell_type": "markdown",
   "metadata": {},
   "source": [
    "### (4) Şimdi ise mevsim mevsim ayrılmış ay listeleri oluşturun. Liste adlarına mevsimlerin adlarını verin."
   ]
  },
  {
   "cell_type": "code",
   "execution_count": 5,
   "metadata": {},
   "outputs": [
    {
     "name": "stdout",
     "output_type": "stream",
     "text": [
      "[('Mart', 31), ('Nisan', 30), ('Mayıs', 31)] [('Haziran', 30), ('Temmuz', 31), ('Ağustos', 31)] [('Eylül', 30), ('Ekim', 31), ('Kasım', 30)] [('Aralık', 31), ('Ocak', 31), ('Şubat', 28)]\n",
      "<class 'list'>   <class 'list'>   <class 'list'>   <class 'list'>\n"
     ]
    }
   ],
   "source": [
    "ilkbahar=[('Mart',31),('Nisan',30),('Mayıs',31)]\n",
    "\n",
    "yaz=[('Haziran',30),('Temmuz',31),('Ağustos',31)]\n",
    "\n",
    "sonbahar=[('Eylül',30),('Ekim',31),('Kasım',30)]\n",
    "\n",
    "kıs=[('Aralık',31),('Ocak',31),('Şubat',28)]\n",
    "\n",
    "print(ilkbahar,yaz,sonbahar,kıs)\n",
    "\n",
    "\n",
    "print(type(ilkbahar),\" \",type(yaz),\" \",type(sonbahar),\" \",type(kıs))"
   ]
  },
  {
   "cell_type": "code",
   "execution_count": null,
   "metadata": {},
   "outputs": [],
   "source": []
  },
  {
   "cell_type": "markdown",
   "metadata": {},
   "source": [
    "### (5)Son olarak, bir önceki sorudaki listeden yaz ayının kaç gün sürdüğünü hesaplayın."
   ]
  },
  {
   "cell_type": "code",
   "execution_count": 7,
   "metadata": {},
   "outputs": [
    {
     "name": "stdout",
     "output_type": "stream",
     "text": [
      "[30, 31, 31] \n",
      "\n",
      "Yaz aylarının toplam gün sayısı: 92\n"
     ]
    }
   ],
   "source": [
    "yaz1=dict(yaz)\n",
    "\n",
    "x=list(yaz1.values())\n",
    "print(x,\"\\n\")\n",
    "\n",
    "print(\"Yaz aylarının toplam gün sayısı:\",x[0]+x[1]+x[2])\n",
    "\n"
   ]
  },
  {
   "cell_type": "code",
   "execution_count": null,
   "metadata": {},
   "outputs": [],
   "source": []
  },
  {
   "cell_type": "code",
   "execution_count": null,
   "metadata": {},
   "outputs": [],
   "source": []
  }
 ],
 "metadata": {
  "kernelspec": {
   "display_name": "Python 3",
   "language": "python",
   "name": "python3"
  },
  "language_info": {
   "codemirror_mode": {
    "name": "ipython",
    "version": 3
   },
   "file_extension": ".py",
   "mimetype": "text/x-python",
   "name": "python",
   "nbconvert_exporter": "python",
   "pygments_lexer": "ipython3",
   "version": "3.7.4"
  }
 },
 "nbformat": 4,
 "nbformat_minor": 4
}
