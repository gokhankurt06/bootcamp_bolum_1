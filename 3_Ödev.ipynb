{
 "cells": [
  {
   "cell_type": "markdown",
   "metadata": {},
   "source": [
    "### 1. Kullanıcıdan Santigrat ya da Fahrenheit olarak sıcaklık değerini alacak ve diğer sıcaklık birimine çevirecek bir kod yazın. Dönüşüm için C = (5/9) * (F - 32) formülünü kullanabilirsiniz."
   ]
  },
  {
   "cell_type": "code",
   "execution_count": 1,
   "metadata": {},
   "outputs": [
    {
     "name": "stdin",
     "output_type": "stream",
     "text": [
      "Çevirim yapmak istediğiniz birimi yazınız (Santigrat için C veya c, Fahrenheit icin F veya f) :  f\n",
      "Sıcaklık değerini giriniz :  32\n"
     ]
    },
    {
     "name": "stdout",
     "output_type": "stream",
     "text": [
      "32.0F------> 0.00 Santigrat'a eşittir\n"
     ]
    }
   ],
   "source": [
    "birim=input(\"Çevirim yapmak istediğiniz birimi yazınız (Santigrat için C veya c, Fahrenheit icin F veya f) : \")\n",
    "\n",
    "sicaklik=float(input(\"Sıcaklık değerini giriniz : \"))\n",
    "\n",
    "C=0\n",
    "F=0\n",
    "\n",
    "if birim=='C' or birim=='c':\n",
    "    F=(sicaklik/(5/9))+32\n",
    "    print(\"{}C------> {} Fahrenheit'a eşittir\".format(sicaklik,F))\n",
    "    \n",
    "else:\n",
    "    C=(5/9)*(sicaklik-32)\n",
    "    print(\"{}F------> {:.2f} Santigrat'a eşittir\".format(sicaklik,C))\n",
    "\n",
    "\n",
    "\n",
    "\n",
    "\n"
   ]
  },
  {
   "cell_type": "code",
   "execution_count": null,
   "metadata": {},
   "outputs": [],
   "source": []
  },
  {
   "cell_type": "markdown",
   "metadata": {},
   "source": [
    "### 2) Kullanıcının girdiği kelimeyi ters çeviren bir kod yazınız."
   ]
  },
  {
   "cell_type": "code",
   "execution_count": 17,
   "metadata": {},
   "outputs": [
    {
     "name": "stdout",
     "output_type": "stream",
     "text": [
      "Bir kelime/cümle giriniz : cumartesi\n",
      "isetramuc"
     ]
    }
   ],
   "source": [
    "kelime=input(\"Bir kelime/cümle giriniz : \")\n",
    "\n",
    "\n",
    "for i in range(1,(len(kelime)+1)):\n",
    "    print(kelime[len(kelime)-i],end=\"\")\n",
    "\n",
    "\n"
   ]
  },
  {
   "cell_type": "code",
   "execution_count": null,
   "metadata": {},
   "outputs": [],
   "source": []
  },
  {
   "cell_type": "code",
   "execution_count": null,
   "metadata": {},
   "outputs": [],
   "source": []
  },
  {
   "cell_type": "markdown",
   "metadata": {},
   "source": [
    "### 3) 1'den 50'ye kadar olan Fibonacci sayılarından oluşan bir liste oluşturun. İlk iki Fibonacci sayısı 1'dir. Sonraki sayılar, önceki iki sayının toplamıdır "
   ]
  },
  {
   "cell_type": "code",
   "execution_count": 35,
   "metadata": {},
   "outputs": [
    {
     "name": "stdout",
     "output_type": "stream",
     "text": [
      "[1, 1, 2, 3, 5, 8, 13, 21, 34]\n"
     ]
    }
   ],
   "source": [
    "fibo=[1,1]\n",
    "\n",
    "for i in range(0,7):  \n",
    "    \n",
    "    if fibo[len(fibo)-1]!=55:\n",
    " \n",
    "        fibo.append(fibo[i]+fibo[i+1])\n",
    "    \n",
    "print(fibo)    \n"
   ]
  },
  {
   "cell_type": "code",
   "execution_count": null,
   "metadata": {},
   "outputs": [],
   "source": []
  },
  {
   "cell_type": "code",
   "execution_count": null,
   "metadata": {},
   "outputs": [],
   "source": []
  },
  {
   "cell_type": "markdown",
   "metadata": {},
   "source": [
    "### 4) Girilen bir sayı için çarpım tablosunu yazdırın "
   ]
  },
  {
   "cell_type": "code",
   "execution_count": 1,
   "metadata": {},
   "outputs": [
    {
     "name": "stdin",
     "output_type": "stream",
     "text": [
      "Bir sayi giriniz : 15\n"
     ]
    },
    {
     "name": "stdout",
     "output_type": "stream",
     "text": [
      "15 x 1= 15\n",
      "15 x 2= 30\n",
      "15 x 3= 45\n",
      "15 x 4= 60\n",
      "15 x 5= 75\n",
      "15 x 6= 90\n",
      "15 x 7= 105\n",
      "15 x 8= 120\n",
      "15 x 9= 135\n",
      "15 x 10= 150\n"
     ]
    }
   ],
   "source": [
    "s=int(input(\"Bir sayi giriniz :\"))\n",
    "\n",
    "for i in range(1,11):\n",
    "    carpim=s*i\n",
    "    \n",
    "    print(\"{} x {}= {}\".format(s,i,carpim))\n",
    "\n",
    "\n",
    "\n"
   ]
  },
  {
   "cell_type": "code",
   "execution_count": null,
   "metadata": {},
   "outputs": [],
   "source": []
  },
  {
   "cell_type": "markdown",
   "metadata": {},
   "source": [
    "### 5) List comprehension kullanarak, 1'den 20'ye kadar tek sayıların karesini, çift sayıların küpünü içeren bir liste oluşturun."
   ]
  },
  {
   "cell_type": "code",
   "execution_count": 17,
   "metadata": {},
   "outputs": [
    {
     "name": "stdout",
     "output_type": "stream",
     "text": [
      "[1, 8, 9, 64, 25, 216, 49, 512, 81, 1000, 121, 1728, 169, 2744, 225, 4096, 289, 5832, 361]\n"
     ]
    }
   ],
   "source": [
    "l=[x**3 if x%2==0 else x**2 for x in range(1,20)]\n",
    "print(l)"
   ]
  },
  {
   "cell_type": "code",
   "execution_count": null,
   "metadata": {},
   "outputs": [],
   "source": []
  },
  {
   "cell_type": "code",
   "execution_count": null,
   "metadata": {},
   "outputs": [],
   "source": []
  },
  {
   "cell_type": "code",
   "execution_count": null,
   "metadata": {},
   "outputs": [],
   "source": []
  }
 ],
 "metadata": {
  "kernelspec": {
   "display_name": "Python 3",
   "language": "python",
   "name": "python3"
  },
  "language_info": {
   "codemirror_mode": {
    "name": "ipython",
    "version": 3
   },
   "file_extension": ".py",
   "mimetype": "text/x-python",
   "name": "python",
   "nbconvert_exporter": "python",
   "pygments_lexer": "ipython3",
   "version": "3.7.3"
  }
 },
 "nbformat": 4,
 "nbformat_minor": 2
}
