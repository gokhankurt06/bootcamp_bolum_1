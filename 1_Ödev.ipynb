{
 "cells": [
  {
   "cell_type": "markdown",
   "metadata": {},
   "source": [
    "### Bitcoin'in iyi kazandırdığı 2017 yılı sonunda yatırım yaptığınızı farz edelim. Günlük ortalama %12 artan bitcoine 1000$ yatırmış olsaydınız bir hafta sonunda paranız ne kadar olurdu? Lütfen problemi Python kullanarak çözün."
   ]
  },
  {
   "cell_type": "code",
   "execution_count": 4,
   "metadata": {},
   "outputs": [
    {
     "name": "stdin",
     "output_type": "stream",
     "text": [
      "Anapara tutarınızı giriniz : 1000\n"
     ]
    },
    {
     "name": "stdout",
     "output_type": "stream",
     "text": [
      "1. günün sonunda toplam paranız : 1120.00 $\n",
      "2. günün sonunda toplam paranız : 1254.40 $\n",
      "3. günün sonunda toplam paranız : 1404.93 $\n",
      "4. günün sonunda toplam paranız : 1573.52 $\n",
      "5. günün sonunda toplam paranız : 1762.34 $\n",
      "6. günün sonunda toplam paranız : 1973.82 $\n",
      "7. günün sonunda toplam paranız : 2210.68 $\n"
     ]
    }
   ],
   "source": [
    "anapara=int(input(\"Anapara tutarınızı giriniz :\"))\n",
    "\n",
    "i=0\n",
    "y=0\n",
    "\n",
    "while i<7 and y<7 :\n",
    "    anapara=anapara*1.12\n",
    "    y+=1\n",
    "    i+=1\n",
    "    \n",
    "\n",
    "    print(\"%d. günün sonunda toplam paranız : %.2f $\"%(y ,anapara))\n"
   ]
  },
  {
   "cell_type": "code",
   "execution_count": null,
   "metadata": {},
   "outputs": [],
   "source": []
  },
  {
   "cell_type": "code",
   "execution_count": 15,
   "metadata": {},
   "outputs": [
    {
     "name": "stdin",
     "output_type": "stream",
     "text": [
      "Anapara tutarınızı giriniz : 1000\n"
     ]
    },
    {
     "name": "stdout",
     "output_type": "stream",
     "text": [
      "1. günün sonunda toplam paranız : 1120.000 $\n",
      "2. günün sonunda toplam paranız : 1254.400 $\n",
      "3. günün sonunda toplam paranız : 1404.928 $\n",
      "4. günün sonunda toplam paranız : 1573.519 $\n",
      "5. günün sonunda toplam paranız : 1762.342 $\n",
      "6. günün sonunda toplam paranız : 1973.823 $\n",
      "7. günün sonunda toplam paranız : 2210.681 $\n"
     ]
    }
   ],
   "source": [
    "anapara=int(input(\"Anapara tutarınızı giriniz :\"))\n",
    "\n",
    "i=0\n",
    "y=0\n",
    "\n",
    "while i<7 and y<7 :\n",
    "    anapara=anapara*1.12\n",
    "    y+=1\n",
    "    i+=1\n",
    "    \n",
    "    print(\"{}. günün sonunda toplam paranız : {:.3f} $\".format(y,anapara))\n"
   ]
  },
  {
   "cell_type": "code",
   "execution_count": null,
   "metadata": {},
   "outputs": [],
   "source": []
  },
  {
   "cell_type": "code",
   "execution_count": null,
   "metadata": {},
   "outputs": [],
   "source": []
  },
  {
   "cell_type": "code",
   "execution_count": null,
   "metadata": {},
   "outputs": [],
   "source": []
  },
  {
   "cell_type": "markdown",
   "metadata": {},
   "source": [
    "### 2.Tırnak içindeki metni Python ile yazdırın. Ancak rakamlar değişkenlerden gelmeli. Metin uzun olduğu için iki satıra yazmayı düşünebilirsiniz: \"Hafta başında 1000 dolarlık bitcoin aldığımızda günde ortalama %12 kazançla, bir hafta sonunda 1210.68 dolar kazanırdık\""
   ]
  },
  {
   "cell_type": "code",
   "execution_count": 9,
   "metadata": {},
   "outputs": [
    {
     "name": "stdout",
     "output_type": "stream",
     "text": [
      "('Hafta başında {} dolarlık bitcoin aldığımızda günde ortalama %{} kazançla', '\\n', 'bir hafta sonunda 1000 dolar kazanırdık. ')\n"
     ]
    }
   ],
   "source": [
    "anapara=1000\n",
    "k=12\n",
    "kar=1210.68\n",
    "\n",
    "metin=\"Hafta başında {} dolarlık bitcoin aldığımızda günde ortalama %{} kazançla, bir hafta sonunda {} dolar kazanırdık. \".format(anapara,k,kar)\n",
    "\n",
    "print(metin)"
   ]
  },
  {
   "cell_type": "code",
   "execution_count": null,
   "metadata": {},
   "outputs": [],
   "source": []
  },
  {
   "cell_type": "code",
   "execution_count": null,
   "metadata": {},
   "outputs": [],
   "source": []
  },
  {
   "cell_type": "markdown",
   "metadata": {},
   "source": [
    "## 3.Kullanıcıdan dosya adını alan ve bu dosya adına \"py\" uzantısı ekleyerek ekrana yazdıran bir kod yazınız. "
   ]
  },
  {
   "cell_type": "code",
   "execution_count": 10,
   "metadata": {},
   "outputs": [
    {
     "name": "stdin",
     "output_type": "stream",
     "text": [
      "Kaydetmek istediğiniz dosya adını giriniz :  deneme\n"
     ]
    },
    {
     "name": "stdout",
     "output_type": "stream",
     "text": [
      "deneme.py\n"
     ]
    }
   ],
   "source": [
    "dosya_adi=input(\"Kaydetmek istediğiniz dosya adını giriniz : \")\n",
    "\n",
    "print(dosya_adi + \".py\")"
   ]
  }
 ],
 "metadata": {
  "kernelspec": {
   "display_name": "Python 3",
   "language": "python",
   "name": "python3"
  },
  "language_info": {
   "codemirror_mode": {
    "name": "ipython",
    "version": 3
   },
   "file_extension": ".py",
   "mimetype": "text/x-python",
   "name": "python",
   "nbconvert_exporter": "python",
   "pygments_lexer": "ipython3",
   "version": "3.7.3"
  }
 },
 "nbformat": 4,
 "nbformat_minor": 2
}
