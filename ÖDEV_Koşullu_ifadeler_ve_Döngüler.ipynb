{
 "cells": [
  {
   "cell_type": "markdown",
   "metadata": {},
   "source": [
    "### 1) Kullanıcıdan Santigrat ya da Fahrenheit olarak sıcaklık değerini alacak ve diğer sıcaklık birimine çevirecek bir kod yazın. Dönüşüm için C = (5/9) * (F - 32) formülünü kullanabilirsiniz"
   ]
  },
  {
   "cell_type": "code",
   "execution_count": null,
   "metadata": {},
   "outputs": [],
   "source": [
    "birim=str(input(\"Lütfen ölçüm yapmak istediğiniz derece birimini giriniz (Santigrat:C Fahrenheit:F):\"))\n",
    "\n",
    "while (birim!=\"F\" and birim!=\"C\"):\n",
    "    print(\"\\n\",\"HATALI İŞLEM YAPTINIZ!\",\"\\n\")\n",
    "    birim=str(input(\"Lütfen yeniden giriş yapınız :\"))\n",
    "    \n",
    "a=(input(\"Lütfen sayısal bir değer giriniz : \"))\n",
    "\n",
    "while not a.isdigit():\n",
    "    print(\"\\n\",\"SAYISAL BİR DEĞER GİRMEDİNİZ!!\",\"\\n\")\n",
    "    a=input(\"Lütfen sayısal bir değer giriniz:\")\n",
    "\n",
    "F=((9/5)*float(a)+32)    \n",
    " \n",
    "C=float((5/9)*(float(a)-32))\n",
    "\n",
    "if birim==\"F\":\n",
    "    print(\"Dönüştürme Sonucuz: {} C------> {:.1f} F'dir\".format(a,C))\n",
    "    \n",
    "else :\n",
    "    print(\"Dönüştüme Sonucu:  {}C----->{} F'dir.\".format(a,F))\n",
    "    \n",
    "    "
   ]
  },
  {
   "cell_type": "code",
   "execution_count": null,
   "metadata": {},
   "outputs": [],
   "source": []
  },
  {
   "cell_type": "markdown",
   "metadata": {},
   "source": [
    "### 2) Kullanıcının Girdiği Kelimeyi ters çeviren bir kod yazınız. "
   ]
  },
  {
   "cell_type": "code",
   "execution_count": null,
   "metadata": {},
   "outputs": [],
   "source": [
    "kelime=input(\"Lütfen bir kelime/cümle giriniz :\")\n",
    "\n",
    "uz=len(kelime)\n",
    "\n",
    "for i in range(1,uz+1):\n",
    "    b=kelime[uz-i]\n",
    "\n",
    "    print(b,end=\"\")"
   ]
  },
  {
   "cell_type": "code",
   "execution_count": null,
   "metadata": {},
   "outputs": [],
   "source": []
  },
  {
   "cell_type": "markdown",
   "metadata": {},
   "source": [
    "### 3) 1'den 50'ye kadar olan Fibonacci sayılarından oluşan bir liste oluşturun. İlk iki Fibonacci sayısı 1'dir. Sonraki sayılar, önceki iki sayının toplamıdır."
   ]
  },
  {
   "cell_type": "code",
   "execution_count": null,
   "metadata": {},
   "outputs": [],
   "source": [
    "x=1\n",
    "y=1\n",
    "\n",
    "fib_list=[x,y]\n",
    "\n",
    "print(fib_list)\n",
    "\n",
    "for i in range(7): \n",
    "    x,y=y,x+y\n",
    "    \n",
    "    fib_list.append(y)\n",
    "    \n",
    "print(fib_list)    "
   ]
  },
  {
   "cell_type": "code",
   "execution_count": null,
   "metadata": {},
   "outputs": [],
   "source": []
  },
  {
   "cell_type": "markdown",
   "metadata": {},
   "source": [
    "### 4) Girilen bir sayı için çarpım tablosunu yazdırın"
   ]
  },
  {
   "cell_type": "code",
   "execution_count": null,
   "metadata": {},
   "outputs": [],
   "source": [
    "sayi=int(input(\"Bir sayi giriniz:\"))\n",
    "list=[]\n",
    "\n",
    "for i in range (1,11):\n",
    "    b=sayi*i\n",
    "    list.append(b)\n",
    "    print(\"{} x {} = {}\".format(sayi,i,b))\n",
    "\n"
   ]
  },
  {
   "cell_type": "code",
   "execution_count": null,
   "metadata": {},
   "outputs": [],
   "source": []
  },
  {
   "cell_type": "markdown",
   "metadata": {},
   "source": [
    "### 5) List comprehension kullanarak, 1'den 20'ye kadar tek sayıların karesini, çift sayıların küpünü içeren bir liste oluşturun."
   ]
  },
  {
   "cell_type": "code",
   "execution_count": 13,
   "metadata": {},
   "outputs": [
    {
     "name": "stdout",
     "output_type": "stream",
     "text": [
      "[1, 8, 9, 64, 25, 216, 49, 512, 81, 1000, 121, 1728, 169, 2744, 225, 4096, 289, 5832, 361, 8000]\n"
     ]
    }
   ],
   "source": [
    "liste1=[x**2 if x%2!=0 else x**3 for x in range(1,21)]\n",
    "\n",
    "print(liste1)"
   ]
  },
  {
   "cell_type": "code",
   "execution_count": null,
   "metadata": {},
   "outputs": [],
   "source": []
  }
 ],
 "metadata": {
  "kernelspec": {
   "display_name": "Python 3",
   "language": "python",
   "name": "python3"
  },
  "language_info": {
   "codemirror_mode": {
    "name": "ipython",
    "version": 3
   },
   "file_extension": ".py",
   "mimetype": "text/x-python",
   "name": "python",
   "nbconvert_exporter": "python",
   "pygments_lexer": "ipython3",
   "version": "3.7.4"
  }
 },
 "nbformat": 4,
 "nbformat_minor": 4
}
