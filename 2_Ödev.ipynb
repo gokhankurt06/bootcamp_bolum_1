{
 "cells": [
  {
   "cell_type": "markdown",
   "metadata": {},
   "source": [
    "## 1)- İçerisinde 7 günün bulunduğu bir sözlük oluşturun. Kullanıcıya günleri listeleyerek 2 farklı gün seçmesini isteyin (örneğin pazartesi ve salı için \"12\" gibi). Kullanıcının seçtiği günleri sözlükten silerek kalan 5 günü ekrana yazdırın. "
   ]
  },
  {
   "cell_type": "code",
   "execution_count": null,
   "metadata": {},
   "outputs": [],
   "source": []
  },
  {
   "cell_type": "code",
   "execution_count": null,
   "metadata": {},
   "outputs": [
    {
     "name": "stdout",
     "output_type": "stream",
     "text": [
      "{'1': 'Pazartesi', '2': 'Salı', '3': 'Çarşamba', '4': 'Perşembe', '5': 'Cuma', '6': 'Cumartesi', '7': 'Pazar'} \n",
      "\n",
      "Listelenen Günlerden 2 farklı gün seçiniz (örneğin pazartesi ve salı için 12 gibi ) \n",
      "\n"
     ]
    }
   ],
   "source": [
    "Günler = { '1' : 'Pazartesi',\n",
    "           '2' : 'Salı',\n",
    "           '3' : 'Çarşamba',\n",
    "           '4' : 'Perşembe',\n",
    "           '5' : 'Cuma',\n",
    "           '6' : 'Cumartesi',\n",
    "           '7' : 'Pazar'\n",
    "          }\n",
    "\n",
    "\n",
    "print(Günler,'\\n')\n",
    "\n",
    "print(\"Listelenen Günlerden 2 farklı gün seçiniz (örneğin pazartesi ve salı için 12 gibi )\",\"\\n\")\n",
    "\n",
    "a=list(input(\"Seçtiğiniz günleri rakamsal olarak giriniz : \"))\n",
    "\n",
    "print(\"\\n\")\n",
    "\n",
    "del Günler[a[0]]\n",
    "del Günler[a[1]]\n",
    "\n",
    "b=list(Günler.values())\n",
    "\n",
    "print( \"Kalan günler : \",b)\n",
    "\n"
   ]
  },
  {
   "cell_type": "code",
   "execution_count": null,
   "metadata": {},
   "outputs": [],
   "source": []
  },
  {
   "cell_type": "code",
   "execution_count": null,
   "metadata": {},
   "outputs": [],
   "source": []
  },
  {
   "cell_type": "markdown",
   "metadata": {},
   "source": [
    "### 2)- Ayların kaç gün çektiğini karıştırabiliyoruz. Bunun için bir liste oluşturun ancak listenizde ay isimleri ve gün sayıları beraber bulunsun (ipucu: listenizin içinde başka bir veri yapısı yer alacak!)."
   ]
  },
  {
   "cell_type": "code",
   "execution_count": 17,
   "metadata": {},
   "outputs": [
    {
     "name": "stdout",
     "output_type": "stream",
     "text": [
      "[('Ocak', 31), ('Subat', 28), ('Mart', 31), ('Nisan', 30), ('Mayıs', 31), ('Haziran', 30), ('Temmuz', 31), ('Ağustos', 31), ('Eylül', 30), ('Ekim', 31), ('Kasım', 30), ('Aralık', 31)]\n"
     ]
    },
    {
     "data": {
      "text/plain": [
       "list"
      ]
     },
     "execution_count": 17,
     "metadata": {},
     "output_type": "execute_result"
    }
   ],
   "source": [
    "Aylar=[ ( 'Ocak' , 31),\n",
    "         ('Subat' , 28),\n",
    "         ('Mart'  , 31),\n",
    "         ('Nisan' , 30),\n",
    "         ('Mayıs' , 31),\n",
    "         ('Haziran',30),\n",
    "         ('Temmuz' ,31),\n",
    "         ('Ağustos',31),\n",
    "         ('Eylül' , 30),\n",
    "         ('Ekim'  , 31),\n",
    "         ('Kasım' , 30),\n",
    "         ('Aralık', 31) \n",
    "      ]\n",
    "\n",
    "\n",
    "print(Aylar)\n",
    "type(Aylar)"
   ]
  },
  {
   "cell_type": "code",
   "execution_count": null,
   "metadata": {},
   "outputs": [],
   "source": []
  },
  {
   "cell_type": "code",
   "execution_count": null,
   "metadata": {},
   "outputs": [],
   "source": []
  },
  {
   "cell_type": "code",
   "execution_count": null,
   "metadata": {},
   "outputs": [],
   "source": []
  },
  {
   "cell_type": "markdown",
   "metadata": {},
   "source": [
    "### 3)- Bilgileri bir önceki listeden alan başka bir ay listesi oluşturun. Bu kez ayları günlerle birlikte listenin içinde iki ayrı listede tutun. "
   ]
  },
  {
   "cell_type": "code",
   "execution_count": 24,
   "metadata": {},
   "outputs": [
    {
     "name": "stdout",
     "output_type": "stream",
     "text": [
      "['Ocak', 'Subat', 'Mart', 'Nisan', 'Mayıs', 'Haziran', 'Temmuz', 'Ağustos', 'Eylül', 'Ekim', 'Kasım', 'Aralık'] \n",
      "\n",
      "[31, 28, 31, 30, 31, 30, 31, 31, 30, 31, 30, 31] \n",
      "\n",
      "[['Ocak', 'Subat', 'Mart', 'Nisan', 'Mayıs', 'Haziran', 'Temmuz', 'Ağustos', 'Eylül', 'Ekim', 'Kasım', 'Aralık'], [31, 28, 31, 30, 31, 30, 31, 31, 30, 31, 30, 31]]\n"
     ]
    }
   ],
   "source": [
    "yeni_liste=dict(Aylar)\n",
    "\n",
    "ay_isimleri=list(yeni_liste.keys())\n",
    "print(ay_isimleri,'\\n')\n",
    "\n",
    "gün_sayilari=list(yeni_liste.values())\n",
    "print(gün_sayilari,'\\n')\n",
    "\n",
    "a=[ay_isimleri,gün_sayilari]\n",
    "print(a)"
   ]
  },
  {
   "cell_type": "code",
   "execution_count": null,
   "metadata": {},
   "outputs": [],
   "source": []
  },
  {
   "cell_type": "markdown",
   "metadata": {},
   "source": [
    "### 4)- Şimdi ise mevsim mevsim ayrılmış ay listeleri oluşturun. Liste adlarına mevsimlerin adlarını verin.\n",
    "    \n",
    "### 5)- Son olarak, bir önceki sorudaki listeden yaz ayının kaç gün sürdüğünü hesaplayın."
   ]
  },
  {
   "cell_type": "code",
   "execution_count": 30,
   "metadata": {},
   "outputs": [],
   "source": [
    "kıs=[[\"Aralık\",31],[\"Ocak\",31],[\"Şubat\",28]]\n",
    "\n",
    "ilkbahar=[[\"Mart\",31],[\"Nisan\",30],[\"Mayıs\",31]]\n",
    "\n",
    "yaz=[[\"Haziran\",30],[\"Temmuz\",31],[\"Ağustos\",31]]\n",
    "\n",
    "sonbahar=[[\"Eylül\",30],[\"Ekim\",31],[\"Kasım\",31]]"
   ]
  },
  {
   "cell_type": "code",
   "execution_count": 26,
   "metadata": {},
   "outputs": [
    {
     "name": "stdout",
     "output_type": "stream",
     "text": [
      "[['Haziran', 30], ['Temmuz', 31], ['Ağustos', 31]]\n"
     ]
    }
   ],
   "source": [
    "print(yaz)"
   ]
  },
  {
   "cell_type": "code",
   "execution_count": 29,
   "metadata": {},
   "outputs": [
    {
     "name": "stdout",
     "output_type": "stream",
     "text": [
      "Yaz mevsimi toplam 92 gün sürer.\n"
     ]
    }
   ],
   "source": [
    "print(\"Yaz mevsimi toplam {} gün sürer.\".format(yaz[0][1]+yaz[1][1]+yaz[2][1]))"
   ]
  },
  {
   "cell_type": "code",
   "execution_count": null,
   "metadata": {},
   "outputs": [],
   "source": []
  },
  {
   "cell_type": "code",
   "execution_count": null,
   "metadata": {},
   "outputs": [],
   "source": []
  },
  {
   "cell_type": "code",
   "execution_count": null,
   "metadata": {},
   "outputs": [],
   "source": []
  },
  {
   "cell_type": "code",
   "execution_count": null,
   "metadata": {},
   "outputs": [],
   "source": []
  },
  {
   "cell_type": "code",
   "execution_count": null,
   "metadata": {},
   "outputs": [],
   "source": []
  }
 ],
 "metadata": {
  "kernelspec": {
   "display_name": "Python 3",
   "language": "python",
   "name": "python3"
  },
  "language_info": {
   "codemirror_mode": {
    "name": "ipython",
    "version": 3
   },
   "file_extension": ".py",
   "mimetype": "text/x-python",
   "name": "python",
   "nbconvert_exporter": "python",
   "pygments_lexer": "ipython3",
   "version": "3.7.3"
  }
 },
 "nbformat": 4,
 "nbformat_minor": 2
}
