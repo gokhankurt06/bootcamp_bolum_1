{
 "cells": [
  {
   "cell_type": "markdown",
   "metadata": {},
   "source": [
    "# ÖDEV-1\n",
    "\n",
    "### Bitcoin'in iyi kazandırdığı 2017 yılı sonunda yatırım yaptığınızı farz edelim. Günlük ortalama %12 artan bitcoine 1000 dolar yatırmış olsaydınız bir hafta sonunda paranız ne kadar olurdu? Lütfen problemi Python kullanarak çözün"
   ]
  },
  {
   "cell_type": "code",
   "execution_count": null,
   "metadata": {},
   "outputs": [],
   "source": [
    "x=int(input(\"Anapara Tutarınızı Giriniz:\"))\n",
    "\n",
    "i=0\n",
    "y=0\n",
    "while i<7 and y<7 :\n",
    "    x=x*1.12\n",
    "    i+=1\n",
    "    y+=1\n",
    "    print('%d.günün sonunda toplam paranız: %.2f $' %((y),(x)))\n",
    "   "
   ]
  },
  {
   "cell_type": "markdown",
   "metadata": {},
   "source": [
    "# ÖDEV-2\n",
    "\n",
    "### Tırnak içindeki metni Python ile yazdırın. Ancak rakamlar değişkenlerden gelmeli. Metin uzun olduğu için iki satıra yazmayı düşünebilirsiniz: \"Hafta başında 1000 dolarlık bitcoin aldığımızda günde ortalama %12 kazançla, bir hafta sonunda 1210.68 dolar kazanırdık\""
   ]
  },
  {
   "cell_type": "code",
   "execution_count": 2,
   "metadata": {},
   "outputs": [
    {
     "name": "stdout",
     "output_type": "stream",
     "text": [
      "Hafta başında 1000 dolarlık bitcoin aldığımızda günde ortalama 12 kazançla,bir hafta sonunda 1210.68 dolar kazanırdık.\n"
     ]
    }
   ],
   "source": [
    "ap=1000\n",
    "k=12\n",
    "kar=1210.68\n",
    "\n",
    "metin='Hafta başında %d dolarlık bitcoin aldığımızda günde ortalama %d kazançla,bir hafta sonunda %.2f dolar kazanırdık.'%((ap),(k),(kar))\n",
    "print(metin)"
   ]
  },
  {
   "cell_type": "code",
   "execution_count": 3,
   "metadata": {},
   "outputs": [
    {
     "name": "stdout",
     "output_type": "stream",
     "text": [
      " Hafta başında 1000 dolarlık bitcoin aldığımızda günde ortalama % 12 kazançla, \n",
      " bir hafta sonunda 1210.68 dolar kazınırdık.\n"
     ]
    }
   ],
   "source": [
    "#Alt satıra kaydırılmış hali\n",
    "\n",
    "ap=1000\n",
    "k=12\n",
    "kar=1210.68\n",
    "\n",
    "\n",
    "print(\" Hafta başında\",ap,\"dolarlık bitcoin aldığımızda günde ortalama %\",k,\"kazançla,\",\"\\n\",\"bir hafta sonunda\",kar,\"dolar kazınırdık.\")"
   ]
  },
  {
   "cell_type": "markdown",
   "metadata": {},
   "source": [
    "# ÖDEV-3 \n",
    "\n",
    "### Kullanıcıdan dosya adını alan ve bu dosya adına \"py\" uzantısı ekleyerek ekrana yazdıran bir kod yazınız."
   ]
  },
  {
   "cell_type": "code",
   "execution_count": null,
   "metadata": {},
   "outputs": [],
   "source": [
    "Dosya=input('Dosya adını giriniz:')\n",
    "\n",
    "y=Dosya+'.py'\n",
    "\n",
    "print(\"\\n\",y)"
   ]
  }
 ],
 "metadata": {
  "kernelspec": {
   "display_name": "Python 3",
   "language": "python",
   "name": "python3"
  },
  "language_info": {
   "codemirror_mode": {
    "name": "ipython",
    "version": 3
   },
   "file_extension": ".py",
   "mimetype": "text/x-python",
   "name": "python",
   "nbconvert_exporter": "python",
   "pygments_lexer": "ipython3",
   "version": "3.7.4"
  }
 },
 "nbformat": 4,
 "nbformat_minor": 2
}
